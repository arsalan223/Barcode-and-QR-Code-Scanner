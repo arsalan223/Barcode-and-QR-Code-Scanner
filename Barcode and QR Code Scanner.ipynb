{
 "cells": [
  {
   "cell_type": "code",
   "execution_count": 3,
   "metadata": {},
   "outputs": [],
   "source": [
    "import cv2 as cv\n",
    "from pyzbar import pyzbar"
   ]
  },
  {
   "cell_type": "markdown",
   "metadata": {},
   "source": [
    "# Read Barcode & QR Code from image"
   ]
  },
  {
   "cell_type": "code",
   "execution_count": 21,
   "metadata": {},
   "outputs": [
    {
     "data": {
      "text/plain": [
       "[Decoded(data=b'Arsalan Siddiqui', type='QRCODE', rect=Rect(left=36, top=95, width=168, height=168), polygon=[Point(x=36, y=95), Point(x=36, y=263), Point(x=204, y=263), Point(x=204, y=95)]),\n",
       " Decoded(data=b'Arsalan siddiqui', type='CODE128', rect=Rect(left=306, top=82, width=618, height=55), polygon=[Point(x=306, y=83), Point(x=306, y=137), Point(x=924, y=134), Point(x=924, y=82)])]"
      ]
     },
     "execution_count": 21,
     "metadata": {},
     "output_type": "execute_result"
    }
   ],
   "source": [
    "img = cv.imread('Barcode & QR Code.jpg')\n",
    "\n",
    "codes = pyzbar.decode(img) #will capture & make list of all QR & Barcodes\n",
    "\n",
    "for code in codes: #to be execute on every code in list\n",
    "    x, y, w, h = code.rect #to get coordinates of current code\n",
    "    cv.rectangle(img, (x, y), (x+w, y+h), (0,255,0), 2)\n",
    "    text = f'{code.data.decode(\"utf-8\")} ({code.type})' #must convert data to utf-8 string, otherwise will get different format.\n",
    "    cv.putText(img, text, (x, y-10), cv.FONT_HERSHEY_SIMPLEX, 0.5, (0,0,255), 1)\n",
    "    cv.imshow('img', img)\n",
    "    \n",
    "cv.waitKey(0)\n",
    "cv.destroyAllWindows()\n",
    "codes #to display codes data/list"
   ]
  },
  {
   "cell_type": "markdown",
   "metadata": {},
   "source": [
    "# Read Barcode & QR Code from Video / Camera"
   ]
  },
  {
   "cell_type": "code",
   "execution_count": 23,
   "metadata": {},
   "outputs": [],
   "source": [
    "# load the input\n",
    "cap = cv.VideoCapture(0)\n",
    "\n",
    "while 1:\n",
    "    check, frame = cap.read()\n",
    "    codes = pyzbar.decode(frame)\n",
    "    # loop over the detected codes\n",
    "    for code in codes:\n",
    "        # extract & Draw the bounding box.\n",
    "        x, y, w, h = code.rect\n",
    "        cv.rectangle(frame, (x, y), (x+w, y+h), (0,255,0), 2)\n",
    "\n",
    "        # the code data is a bytes object so if we want to draw it on our output image we need to convert it to a string first\n",
    "        code_data = code.data.decode('utf-8')\n",
    "        code_type = code.type\n",
    "\n",
    "        # draw the code data and code type on the image\n",
    "        text = '{} ({})'.format(code_data, code_type)\n",
    "        cv.putText(frame, text, (x, y-10), cv.FONT_HERSHEY_SIMPLEX, 0.5, (0,0,255), 2)\n",
    "    \n",
    "    cv.imshow('frame', frame)\n",
    "    if cv.waitKey(1) == ord(' '):\n",
    "        break\n",
    "#show output\n",
    "cap.release()\n",
    "cv.destroyAllWindows()"
   ]
  },
  {
   "cell_type": "code",
   "execution_count": null,
   "metadata": {},
   "outputs": [],
   "source": []
  }
 ],
 "metadata": {
  "kernelspec": {
   "display_name": "Python 3",
   "language": "python",
   "name": "python3"
  },
  "language_info": {
   "codemirror_mode": {
    "name": "ipython",
    "version": 3
   },
   "file_extension": ".py",
   "mimetype": "text/x-python",
   "name": "python",
   "nbconvert_exporter": "python",
   "pygments_lexer": "ipython3",
   "version": "3.8.1"
  }
 },
 "nbformat": 4,
 "nbformat_minor": 4
}
